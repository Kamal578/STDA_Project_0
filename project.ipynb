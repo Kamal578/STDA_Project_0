{
 "cells": [
  {
   "cell_type": "code",
   "execution_count": 7,
   "metadata": {},
   "outputs": [],
   "source": [
    "# import the necessary packages\n",
    "import numpy as np\n",
    "import pandas as pd\n",
    "import matplotlib.pyplot as plt\n",
    "import seaborn as sns\n",
    "from pprint import pprint\n",
    "import os\n",
    "import sys "
   ]
  },
  {
   "cell_type": "code",
   "execution_count": 21,
   "metadata": {},
   "outputs": [
    {
     "name": "stdout",
     "output_type": "stream",
     "text": [
      "       transaction_id  product_id  customer_id transaction_date online_order  \\\n",
      "0                   1           2         2950       25/02/2017        False   \n",
      "1                   2           3         3120       21/05/2017         True   \n",
      "2                   3          37          402       16/10/2017        False   \n",
      "3                   4          88         3135       31/08/2017        False   \n",
      "4                   5          78          787       01/10/2017         True   \n",
      "...               ...         ...          ...              ...          ...   \n",
      "19995           19996          51         1018       24/06/2017         True   \n",
      "19996           19997          41          127       09/11/2017         True   \n",
      "19997           19998          87         2284       14/04/2017         True   \n",
      "19998           19999           6         2764       03/07/2017        False   \n",
      "19999           20000          11         1144       22/09/2017         True   \n",
      "\n",
      "      order_status           brand product_line product_class product_size  \\\n",
      "0         Approved           Solex     Standard        medium       medium   \n",
      "1         Approved   Trek Bicycles     Standard        medium        large   \n",
      "2         Approved      OHM Cycles     Standard           low       medium   \n",
      "3         Approved  Norco Bicycles     Standard        medium       medium   \n",
      "4         Approved  Giant Bicycles     Standard        medium        large   \n",
      "...            ...             ...          ...           ...          ...   \n",
      "19995     Approved      OHM Cycles     Standard          high       medium   \n",
      "19996     Approved           Solex         Road        medium       medium   \n",
      "19997     Approved      OHM Cycles     Standard        medium       medium   \n",
      "19998     Approved      OHM Cycles     Standard          high       medium   \n",
      "19999     Approved   Trek Bicycles     Standard        medium        small   \n",
      "\n",
      "       list_price standard_cost  product_first_sold_date  \n",
      "0           71.49        $53.62                  41245.0  \n",
      "1         2091.47       $388.92                  41701.0  \n",
      "2         1793.43       $248.82                  36361.0  \n",
      "3         1198.46       $381.10                  36145.0  \n",
      "4         1765.30       $709.48                  42226.0  \n",
      "...           ...           ...                      ...  \n",
      "19995     2005.66     $1,203.40                  37823.0  \n",
      "19996      416.98       $312.74                  35560.0  \n",
      "19997     1636.90        $44.71                  40410.0  \n",
      "19998      227.88       $136.73                  38216.0  \n",
      "19999     1775.81     $1,580.47                  36334.0  \n",
      "\n",
      "[20000 rows x 13 columns]\n"
     ]
    }
   ],
   "source": [
    "# import transactions dataset\n",
    "df = pd.read_csv('transactions.csv')\n",
    "\n",
    "# import auxiliary datasets (customer list, demographics, addresses)\n",
    "df_customer_list = pd.read_csv('new_customer_list.csv')\n",
    "df_demographics = pd.read_csv('customer_demographics.csv')\n",
    "df_addresses = pd.read_csv('customer_addresses.csv')"
   ]
  }
 ],
 "metadata": {
  "kernelspec": {
   "display_name": "Python 3",
   "language": "python",
   "name": "python3"
  },
  "language_info": {
   "codemirror_mode": {
    "name": "ipython",
    "version": 3
   },
   "file_extension": ".py",
   "mimetype": "text/x-python",
   "name": "python",
   "nbconvert_exporter": "python",
   "pygments_lexer": "ipython3",
   "version": "3.9.1"
  }
 },
 "nbformat": 4,
 "nbformat_minor": 2
}

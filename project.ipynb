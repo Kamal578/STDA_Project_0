{
 "cells": [
  {
   "cell_type": "code",
   "execution_count": 7,
   "metadata": {},
   "outputs": [],
   "source": [
    "# import the necessary packages\n",
    "import numpy as np\n",
    "import pandas as pd\n",
    "import matplotlib.pyplot as plt\n",
    "import seaborn as sns\n",
    "from pprint import pprint\n",
    "import os\n",
    "import sys "
   ]
  },
  {
   "cell_type": "code",
   "execution_count": 23,
   "metadata": {},
   "outputs": [
    {
     "name": "stdout",
     "output_type": "stream",
     "text": [
      "   transaction_id  product_id  customer_id transaction_date online_order  \\\n",
      "0               1           2         2950       25/02/2017        False   \n",
      "1               2           3         3120       21/05/2017         True   \n",
      "2               3          37          402       16/10/2017        False   \n",
      "3               4          88         3135       31/08/2017        False   \n",
      "4               5          78          787       01/10/2017         True   \n",
      "\n",
      "  order_status           brand product_line product_class product_size  \\\n",
      "0     Approved           Solex     Standard        medium       medium   \n",
      "1     Approved   Trek Bicycles     Standard        medium        large   \n",
      "2     Approved      OHM Cycles     Standard           low       medium   \n",
      "3     Approved  Norco Bicycles     Standard        medium       medium   \n",
      "4     Approved  Giant Bicycles     Standard        medium        large   \n",
      "\n",
      "   list_price standard_cost  product_first_sold_date  \n",
      "0       71.49        $53.62                  41245.0  \n",
      "1     2091.47       $388.92                  41701.0  \n",
      "2     1793.43       $248.82                  36361.0  \n",
      "3     1198.46       $381.10                  36145.0  \n",
      "4     1765.30       $709.48                  42226.0  \n"
     ]
    }
   ],
   "source": [
    "# import transactions dataset\n",
    "df = pd.read_csv('data/transactions.csv')\n",
    "print(df.head())\n",
    "\n",
    "# import auxiliary datasets (customer list, demographics, addresses)\n",
    "df_customer_list = pd.read_csv('data/new_customer_list.csv')\n",
    "df_demographics = pd.read_csv('data/customer_demographics.csv')\n",
    "df_addresses = pd.read_csv('data/customer_addresses.csv')"
   ]
  },
  {
   "cell_type": "markdown",
   "metadata": {},
   "source": [
    "# Part 1 - Descriptive Statistics\n",
    "- Calculate mean, median, and mode of transaction amounts.\n",
    "- Integrate Probability Density Function (PDF) to model the probability distribution.\n",
    "- Compute the expected value of transaction amounts.\n"
   ]
  },
  {
   "cell_type": "code",
   "execution_count": null,
   "metadata": {},
   "outputs": [],
   "source": [
    "# Calculate mean, median, and mode of transaction amounts.\n",
    "mean = df['amount'].mean()"
   ]
  }
 ],
 "metadata": {
  "kernelspec": {
   "display_name": "Python 3",
   "language": "python",
   "name": "python3"
  },
  "language_info": {
   "codemirror_mode": {
    "name": "ipython",
    "version": 3
   },
   "file_extension": ".py",
   "mimetype": "text/x-python",
   "name": "python",
   "nbconvert_exporter": "python",
   "pygments_lexer": "ipython3",
   "version": "3.9.1"
  }
 },
 "nbformat": 4,
 "nbformat_minor": 2
}

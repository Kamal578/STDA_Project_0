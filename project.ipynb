{
 "cells": [
  {
   "cell_type": "code",
   "execution_count": 7,
   "metadata": {
    "ExecuteTime": {
     "end_time": "2024-02-21T18:47:37.280588374Z",
     "start_time": "2024-02-21T18:47:37.279941707Z"
    }
   },
   "outputs": [],
   "source": [
    "# import the necessary packages\n",
    "import numpy as np\n",
    "import pandas as pd\n",
    "import matplotlib.pyplot as plt\n",
    "import seaborn as sns\n",
    "from pprint import pprint\n",
    "import os\n",
    "import sys "
   ]
  },
  {
   "cell_type": "code",
   "execution_count": 8,
   "metadata": {
    "ExecuteTime": {
     "end_time": "2024-02-21T18:47:37.581294120Z",
     "start_time": "2024-02-21T18:47:37.536270939Z"
    }
   },
   "outputs": [
    {
     "name": "stdout",
     "output_type": "stream",
     "text": [
      "   transaction_id  product_id  customer_id transaction_date online_order  \\\n",
      "0               1           2         2950       25/02/2017        False   \n",
      "1               2           3         3120       21/05/2017         True   \n",
      "2               3          37          402       16/10/2017        False   \n",
      "3               4          88         3135       31/08/2017        False   \n",
      "4               5          78          787       01/10/2017         True   \n",
      "\n",
      "  order_status           brand product_line product_class product_size  \\\n",
      "0     Approved           Solex     Standard        medium       medium   \n",
      "1     Approved   Trek Bicycles     Standard        medium        large   \n",
      "2     Approved      OHM Cycles     Standard           low       medium   \n",
      "3     Approved  Norco Bicycles     Standard        medium       medium   \n",
      "4     Approved  Giant Bicycles     Standard        medium        large   \n",
      "\n",
      "   list_price standard_cost  product_first_sold_date  \n",
      "0       71.49        $53.62                  41245.0  \n",
      "1     2091.47       $388.92                  41701.0  \n",
      "2     1793.43       $248.82                  36361.0  \n",
      "3     1198.46       $381.10                  36145.0  \n",
      "4     1765.30       $709.48                  42226.0  \n"
     ]
    }
   ],
   "source": [
    "# import transactions dataset\n",
    "df = pd.read_csv('data/transactions.csv')\n",
    "print(df.head())\n",
    "\n",
    "# import auxiliary datasets (customer list, demographics, addresses)\n",
    "df_customer_list = pd.read_csv('data/new_customer_list.csv')\n",
    "df_demographics = pd.read_csv('data/customer_demographics.csv')\n",
    "df_addresses = pd.read_csv('data/customer_addresses.csv')"
   ]
  },
  {
   "cell_type": "markdown",
   "metadata": {},
   "source": [
    "# Part 1 - Descriptive Statistics\n",
    "- Calculate mean, median, and mode of transaction amounts.\n",
    "- Integrate Probability Density Function (PDF) to model the probability distribution.\n",
    "- Compute the expected value of transaction amounts.\n",
    "\n",
    "For transaction amounts, we have two parameters: \n",
    "- Standard Cost (SC) and\n",
    "- List Price (LP).\n",
    "\n",
    "List Price is the price at which a product or service is advertised or listed for sale. It's also sometimes referred to as the \"sticker price\" or the \"retail price.\" The list price may not always reflect the actual price paid by customers, as discounts or promotions may apply.\n",
    "\n",
    "Standard cost is the predetermined cost of manufacturing a product or providing a service, based on factors such as materials, labor, and overhead. It represents the expected cost under normal conditions and is used for planning, budgeting, and evaluating performance. Standard cost can serve as a benchmark against which actual costs are compared to assess efficiency and variance."
   ]
  },
  {
   "cell_type": "code",
   "execution_count": 9,
   "metadata": {
    "ExecuteTime": {
     "end_time": "2024-02-21T18:47:38.788489765Z",
     "start_time": "2024-02-21T18:47:38.723145215Z"
    }
   },
   "outputs": [
    {
     "name": "stdout",
     "output_type": "stream",
     "text": [
      "Mean: 1107.8294489999998, Median: 1163.89, Mode: 0        2091.47\n",
      "1            NaN\n",
      "2            NaN\n",
      "3            NaN\n",
      "4            NaN\n",
      "          ...   \n",
      "19995        NaN\n",
      "19996        NaN\n",
      "19997        NaN\n",
      "19998        NaN\n",
      "19999        NaN\n",
      "Name: list_price, Length: 20000, dtype: float64\n",
      "Mean: 556.0469512209312, Median: 507.58, Mode: 0    388.92\n",
      "Name: standard_cost, dtype: float64\n"
     ]
    }
   ],
   "source": [
    "# Calculate mean, median, and mode of transaction amounts.\n",
    "\n",
    "# list_price\n",
    "mean = df['list_price'].mean()\n",
    "median = df['list_price'].median()\n",
    "mode = df.mode()['list_price']\n",
    "\n",
    "print(f\"Mean: {mean}, Median: {median}, Mode: {mode}\")\n",
    "\n",
    "# standard_cost\n",
    "\n",
    "# remove $ sign and convert to float\n",
    "df['standard_cost'] = df['standard_cost'].replace('[\\$,]', '', regex=True).astype(float) \n",
    "\n",
    "mean_std_cost = df['standard_cost'].mean()\n",
    "median_std_cost = df['standard_cost'].median()\n",
    "mode_std_cost = df['standard_cost'].mode()\n",
    "\n",
    "print(f\"Mean: {mean_std_cost}, Median: {median_std_cost}, Mode: {mode_std_cost}\")"
   ]
  },
  {
   "cell_type": "code",
   "outputs": [
    {
     "data": {
      "text/plain": "   transaction_id  product_id  customer_id transaction_date online_order  \\\n0               1         0.0       1068.0       14/02/2017         True   \n1               2         NaN       2183.0       18/08/2017          NaN   \n2               3         NaN       2476.0              NaN          NaN   \n3               4         NaN          NaN              NaN          NaN   \n4               5         NaN          NaN              NaN          NaN   \n\n  order_status  brand product_line product_class product_size  list_price  \\\n0     Approved  Solex     Standard        medium       medium     2091.47   \n1          NaN    NaN          NaN           NaN          NaN         NaN   \n2          NaN    NaN          NaN           NaN          NaN         NaN   \n3          NaN    NaN          NaN           NaN          NaN         NaN   \n4          NaN    NaN          NaN           NaN          NaN         NaN   \n\n   standard_cost  product_first_sold_date  \n0         388.92                  33879.0  \n1            NaN                      NaN  \n2            NaN                      NaN  \n3            NaN                      NaN  \n4            NaN                      NaN  ",
      "text/html": "<div>\n<style scoped>\n    .dataframe tbody tr th:only-of-type {\n        vertical-align: middle;\n    }\n\n    .dataframe tbody tr th {\n        vertical-align: top;\n    }\n\n    .dataframe thead th {\n        text-align: right;\n    }\n</style>\n<table border=\"1\" class=\"dataframe\">\n  <thead>\n    <tr style=\"text-align: right;\">\n      <th></th>\n      <th>transaction_id</th>\n      <th>product_id</th>\n      <th>customer_id</th>\n      <th>transaction_date</th>\n      <th>online_order</th>\n      <th>order_status</th>\n      <th>brand</th>\n      <th>product_line</th>\n      <th>product_class</th>\n      <th>product_size</th>\n      <th>list_price</th>\n      <th>standard_cost</th>\n      <th>product_first_sold_date</th>\n    </tr>\n  </thead>\n  <tbody>\n    <tr>\n      <th>0</th>\n      <td>1</td>\n      <td>0.0</td>\n      <td>1068.0</td>\n      <td>14/02/2017</td>\n      <td>True</td>\n      <td>Approved</td>\n      <td>Solex</td>\n      <td>Standard</td>\n      <td>medium</td>\n      <td>medium</td>\n      <td>2091.47</td>\n      <td>388.92</td>\n      <td>33879.0</td>\n    </tr>\n    <tr>\n      <th>1</th>\n      <td>2</td>\n      <td>NaN</td>\n      <td>2183.0</td>\n      <td>18/08/2017</td>\n      <td>NaN</td>\n      <td>NaN</td>\n      <td>NaN</td>\n      <td>NaN</td>\n      <td>NaN</td>\n      <td>NaN</td>\n      <td>NaN</td>\n      <td>NaN</td>\n      <td>NaN</td>\n    </tr>\n    <tr>\n      <th>2</th>\n      <td>3</td>\n      <td>NaN</td>\n      <td>2476.0</td>\n      <td>NaN</td>\n      <td>NaN</td>\n      <td>NaN</td>\n      <td>NaN</td>\n      <td>NaN</td>\n      <td>NaN</td>\n      <td>NaN</td>\n      <td>NaN</td>\n      <td>NaN</td>\n      <td>NaN</td>\n    </tr>\n    <tr>\n      <th>3</th>\n      <td>4</td>\n      <td>NaN</td>\n      <td>NaN</td>\n      <td>NaN</td>\n      <td>NaN</td>\n      <td>NaN</td>\n      <td>NaN</td>\n      <td>NaN</td>\n      <td>NaN</td>\n      <td>NaN</td>\n      <td>NaN</td>\n      <td>NaN</td>\n      <td>NaN</td>\n    </tr>\n    <tr>\n      <th>4</th>\n      <td>5</td>\n      <td>NaN</td>\n      <td>NaN</td>\n      <td>NaN</td>\n      <td>NaN</td>\n      <td>NaN</td>\n      <td>NaN</td>\n      <td>NaN</td>\n      <td>NaN</td>\n      <td>NaN</td>\n      <td>NaN</td>\n      <td>NaN</td>\n      <td>NaN</td>\n    </tr>\n  </tbody>\n</table>\n</div>"
     },
     "execution_count": 12,
     "metadata": {},
     "output_type": "execute_result"
    }
   ],
   "source": [
    "mode = df.mode(axis=0)\n",
    "mode.head()"
   ],
   "metadata": {
    "collapsed": false,
    "ExecuteTime": {
     "end_time": "2024-02-21T18:48:43.373401136Z",
     "start_time": "2024-02-21T18:48:43.327859839Z"
    }
   },
   "execution_count": 12
  },
  {
   "cell_type": "code",
   "outputs": [],
   "source": [],
   "metadata": {
    "collapsed": false
   }
  }
 ],
 "metadata": {
  "kernelspec": {
   "display_name": "Python 3",
   "language": "python",
   "name": "python3"
  },
  "language_info": {
   "codemirror_mode": {
    "name": "ipython",
    "version": 3
   },
   "file_extension": ".py",
   "mimetype": "text/x-python",
   "name": "python",
   "nbconvert_exporter": "python",
   "pygments_lexer": "ipython3",
   "version": "3.9.1"
  }
 },
 "nbformat": 4,
 "nbformat_minor": 2
}
